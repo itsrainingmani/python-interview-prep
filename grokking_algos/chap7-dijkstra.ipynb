{
 "cells": [
  {
   "cell_type": "markdown",
   "metadata": {},
   "source": [
    "# Chapter 7:\n",
    "## Dijkstra's Algorithm\n",
    "\n",
    "Dijkstra's algorithm is used for finding the fastest path through graph with weighted edges"
   ]
  },
  {
   "cell_type": "code",
   "execution_count": 2,
   "metadata": {},
   "outputs": [
    {
     "name": "stdout",
     "output_type": "stream",
     "text": [
      "{'start': {'a': 6, 'b': 2}, 'a': {'fin': 1}, 'b': {'a': 3, 'fin': 5}, 'fin': {}}\n",
      "{'a': 6, 'b': 2, 'fin': inf}\n",
      "{'a': 'start', 'b': 'start', 'fin': None}\n"
     ]
    }
   ],
   "source": [
    "graph = {}\n",
    "\n",
    "graph[\"start\"] = {}\n",
    "graph[\"start\"][\"a\"] = 6\n",
    "graph[\"start\"][\"b\"] = 2\n",
    "\n",
    "graph[\"a\"] = {}\n",
    "graph[\"a\"][\"fin\"] = 1\n",
    "\n",
    "graph[\"b\"] = {}\n",
    "graph[\"b\"][\"a\"] = 3\n",
    "graph[\"b\"][\"fin\"] = 5\n",
    "\n",
    "graph[\"fin\"] = {}\n",
    "\n",
    "infinity = float(\"inf\")\n",
    "costs = {}\n",
    "costs[\"a\"] = 6\n",
    "costs[\"b\"] = 2\n",
    "costs[\"fin\"] = infinity\n",
    "\n",
    "parents = {}\n",
    "parents[\"a\"] = \"start\"\n",
    "parents[\"b\"] = \"start\"\n",
    "parents[\"fin\"] = None\n",
    "\n",
    "processed = []\n",
    "\n",
    "print(graph)\n",
    "print(costs)\n",
    "print(parents)"
   ]
  },
  {
   "cell_type": "code",
   "execution_count": 5,
   "metadata": {},
   "outputs": [],
   "source": [
    "def find_lowest_cost_node(costs):\n",
    "    lowest_cost = float(\"inf\")\n",
    "    lowest_cost_node = None\n",
    "    for node in costs:\n",
    "        cost = costs[node]\n",
    "        if cost < lowest_cost and node not in processed:\n",
    "            lowest_cost = cost\n",
    "            lowest_cost_node = node\n",
    "    return lowest_cost_node\n",
    "\n",
    "node = find_lowest_cost_node(costs)\n",
    "while node is not None:\n",
    "    cost = costs[node]\n",
    "    neighbors = graph[node]\n",
    "    for n in neighbors.keys():\n",
    "        new_cost = cost + neighbors[n]\n",
    "        if new_cost < costs[n]:\n",
    "            costs[n] = new_cost\n",
    "            parents[n] = node\n",
    "    processed.append(node)\n",
    "    node = find_lowest_cost_node(costs)"
   ]
  },
  {
   "cell_type": "code",
   "execution_count": 6,
   "metadata": {},
   "outputs": [
    {
     "name": "stdout",
     "output_type": "stream",
     "text": [
      "{'a': 5, 'b': 2, 'fin': 6}\n",
      "{'a': 'b', 'b': 'start', 'fin': 'a'}\n"
     ]
    }
   ],
   "source": [
    "print(costs)\n",
    "print(parents)"
   ]
  },
  {
   "cell_type": "code",
   "execution_count": null,
   "metadata": {},
   "outputs": [],
   "source": []
  }
 ],
 "metadata": {
  "kernelspec": {
   "display_name": "Python 3",
   "language": "python",
   "name": "python3"
  },
  "language_info": {
   "codemirror_mode": {
    "name": "ipython",
    "version": 3
   },
   "file_extension": ".py",
   "mimetype": "text/x-python",
   "name": "python",
   "nbconvert_exporter": "python",
   "pygments_lexer": "ipython3",
   "version": "3.6.4"
  }
 },
 "nbformat": 4,
 "nbformat_minor": 2
}
